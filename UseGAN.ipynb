{
 "cells": [
  {
   "cell_type": "code",
   "execution_count": null,
   "id": "synthetic-announcement",
   "metadata": {},
   "outputs": [],
   "source": [
    "import torch\n",
    "import numpy as np\n",
    "import os\n",
    "import matplotlib.animation as animation\n",
    "from IPython.display import HTML\n",
    "import matplotlib.pyplot as plt\n",
    "\n",
    "device = torch.device(\"cuda:0\" if (torch.cuda.is_available()) else \"cpu\")"
   ]
  },
  {
   "cell_type": "code",
   "execution_count": null,
   "id": "copyrighted-marble",
   "metadata": {},
   "outputs": [],
   "source": [
    "model_path = \"./models/model/model_4/\""
   ]
  },
  {
   "cell_type": "code",
   "execution_count": null,
   "id": "durable-henry",
   "metadata": {},
   "outputs": [],
   "source": [
    "generator = torch.load(model_path + \"generator.pth\")\n",
    "discriminator = torch.load(model_path + \"discriminator.pth\")\n",
    "\n",
    "generator_state_dict = torch.load(model_path + \"generator_state_dict.pth\")\n",
    "discriminator_state_dict = torch.load(model_path + \"discriminator_state_dict.pth\")\n",
    "\n",
    "with open(model_path + \"model_info.txt\") as f:\n",
    "    model_info = f.read()"
   ]
  },
  {
   "cell_type": "code",
   "execution_count": null,
   "id": "alternate-comparative",
   "metadata": {},
   "outputs": [],
   "source": [
    "model_info"
   ]
  },
  {
   "cell_type": "code",
   "execution_count": null,
   "id": "needed-announcement",
   "metadata": {},
   "outputs": [],
   "source": [
    "fixed_noise = torch.randn(100, 128, 1, 1, device=device)\n",
    "fake = generator(fixed_noise).detach().cpu()\n",
    "plt.imshow(fake[0].reshape(512, 512), cmap='gray')"
   ]
  },
  {
   "cell_type": "code",
   "execution_count": null,
   "id": "celtic-builder",
   "metadata": {},
   "outputs": [],
   "source": [
    "nome_das_saidas = \"teste\"\n",
    "output_path = \"./gan_output/modelo1_epoch5\"\n",
    "if not os.path.exists(output_path):\n",
    "    os.mkdir(output_path)"
   ]
  },
  {
   "cell_type": "code",
   "execution_count": null,
   "id": "close-rings",
   "metadata": {},
   "outputs": [],
   "source": [
    "for idx, f in enumerate(fake):\n",
    "    plt.imsave(f\"{output_path}/{nome_das_saidas}_{idx}.png\", f.reshape(512, 512), cmap='gray')"
   ]
  },
  {
   "cell_type": "code",
   "execution_count": null,
   "id": "specific-coaching",
   "metadata": {},
   "outputs": [],
   "source": []
  },
  {
   "cell_type": "code",
   "execution_count": null,
   "id": "confused-prescription",
   "metadata": {},
   "outputs": [],
   "source": []
  },
  {
   "cell_type": "code",
   "execution_count": null,
   "id": "informational-playback",
   "metadata": {},
   "outputs": [],
   "source": [
    "epochs = [4, 9, 14, 19, 24, 29, 34, 39, 44, 49, 54, 59, 64, 69, 74, 79, 84, 89, 94, 99]\n",
    "fixed_noise = torch.randn(100, 128, 1, 1, device=device)\n",
    "\n",
    "for e in epochs:\n",
    "    model_path = f\"./models/model/model_{e}/\"\n",
    "\n",
    "    generator = torch.load(model_path + \"generator.pth\")\n",
    "    discriminator = torch.load(model_path + \"discriminator.pth\")\n",
    "\n",
    "    with open(model_path + \"model_info.txt\") as f:\n",
    "        model_info = f.read()\n",
    "    \n",
    "    fake = generator(fixed_noise).detach().cpu()\n",
    "    plt.imshow(fake[0].reshape(512, 512), cmap='gray')\n",
    "\n",
    "    nome_das_saidas = \"teste\"\n",
    "    output_path = f\"./gan_output/modelo1_epoch{e+1}\"\n",
    "    if not os.path.exists(output_path):\n",
    "        os.mkdir(output_path)\n",
    "\n",
    "    for idx, f in enumerate(fake):\n",
    "        plt.imsave(f\"{output_path}/{nome_das_saidas}_{idx}.tiff\", f.reshape(512, 512), cmap='gray', pil_kwargs={\"quality\": 100})\n",
    "    \n",
    "    del generator, discriminator"
   ]
  },
  {
   "cell_type": "code",
   "execution_count": null,
   "id": "sophisticated-fence",
   "metadata": {},
   "outputs": [],
   "source": []
  }
 ],
 "metadata": {
  "kernelspec": {
   "display_name": "Python 3",
   "language": "python",
   "name": "python3"
  },
  "language_info": {
   "codemirror_mode": {
    "name": "ipython",
    "version": 3
   },
   "file_extension": ".py",
   "mimetype": "text/x-python",
   "name": "python",
   "nbconvert_exporter": "python",
   "pygments_lexer": "ipython3",
   "version": "3.7.10"
  }
 },
 "nbformat": 4,
 "nbformat_minor": 5
}
