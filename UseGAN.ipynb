{
 "cells": [
  {
   "cell_type": "code",
   "execution_count": null,
   "id": "synthetic-announcement",
   "metadata": {},
   "outputs": [],
   "source": [
    "import torch\n",
    "import numpy as np\n",
    "import os\n",
    "import matplotlib.animation as animation\n",
    "from IPython.display import HTML\n",
    "import matplotlib.pyplot as plt\n",
    "\n",
    "device = torch.device(\"cuda:0\" if (torch.cuda.is_available()) else \"cpu\")"
   ]
  },
  {
   "cell_type": "code",
   "execution_count": null,
   "id": "informational-playback",
   "metadata": {},
   "outputs": [],
   "source": [
    "epochs = np.flip(np.arange(1, 43))\n",
    "fixed_noise = torch.randn(64, 128, 1, 1, device=device)\n",
    "\n",
    "for e in epochs:\n",
    "    model_path = f\"./models/model4_more_songs/model_{e}/\"\n",
    "\n",
    "    generator = torch.load(model_path + \"generator.pth\")\n",
    "    discriminator = torch.load(model_path + \"discriminator.pth\")\n",
    "\n",
    "    with open(model_path + \"model_info.txt\") as f:\n",
    "        model_info = f.read()\n",
    "    \n",
    "    fake = generator(fixed_noise).detach().cpu()\n",
    "    plt.imshow(fake[0].reshape(512, 512), cmap='gray')\n",
    "\n",
    "    nome_das_saidas = \"teste\"\n",
    "    output_path = f\"./gan_output/modelo4/modelo4_epoch{e+1}\"\n",
    "    if not os.path.exists(output_path):\n",
    "        os.mkdir(output_path)\n",
    "\n",
    "    for idx, f in enumerate(fake):\n",
    "        plt.imsave(f\"{output_path}/{nome_das_saidas}_{idx}.tiff\", f.reshape(512, 512), cmap='gray', pil_kwargs={\"quality\": 100})\n",
    "    \n",
    "    del generator, discriminator"
   ]
  },
  {
   "cell_type": "code",
   "execution_count": null,
   "id": "sophisticated-fence",
   "metadata": {},
   "outputs": [],
   "source": []
  }
 ],
 "metadata": {
  "kernelspec": {
   "display_name": "Python 3",
   "language": "python",
   "name": "python3"
  },
  "language_info": {
   "codemirror_mode": {
    "name": "ipython",
    "version": 3
   },
   "file_extension": ".py",
   "mimetype": "text/x-python",
   "name": "python",
   "nbconvert_exporter": "python",
   "pygments_lexer": "ipython3",
   "version": "3.7.10"
  }
 },
 "nbformat": 4,
 "nbformat_minor": 5
}
