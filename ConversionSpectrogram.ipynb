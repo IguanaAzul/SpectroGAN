{
 "cells": [
  {
   "cell_type": "code",
   "execution_count": null,
   "metadata": {},
   "outputs": [],
   "source": [
    "import numpy as np\n",
    "import librosa\n",
    "import librosa.display\n",
    "import soundfile\n",
    "from matplotlib import pyplot as plt\n",
    "from PIL import Image as im\n",
    "import os\n",
    "from librosa.feature import melspectrogram\n",
    "from tqdm import tqdm"
   ]
  },
  {
   "cell_type": "code",
   "execution_count": null,
   "metadata": {},
   "outputs": [],
   "source": [
    "# O objetivo das funções abaixo é tornar viável a conversão dos \n",
    "# nossos espectrogramas em imagens que podem ser lidas com o mínimo \n",
    "# de perda de informação possível\n",
    "\n",
    "def map_values(x, leftMin, leftMax, rightMin, rightMax):\n",
    "    return rightMin + ((x - leftMin) / (leftMax - leftMin) * (rightMax - rightMin))\n",
    "\n",
    "def unmap_values(y, leftMin, leftMax, rightMin, rightMax):\n",
    "    return (y * (leftMin - leftMax) + leftMax * rightMin - leftMin * rightMax) / (rightMin - rightMax)\n",
    "\n",
    "def amp_to_log(x, vmin = 0.001, leftMin=0, leftMax=233.95848, rightMin=0, rightMax=255):\n",
    "    leftMin = np.log10(np.abs(leftMin) + vmin)\n",
    "    leftMax = np.log10(np.abs(leftMax) + vmin)\n",
    "    return map_values(np.log10(np.abs(x) + vmin), leftMin, leftMax, rightMin, rightMax)\n",
    "\n",
    "def log_to_amp(x, vmin = 0.001, leftMin=0, leftMax=233.95848, rightMin=0, rightMax=255):\n",
    "    leftMin = np.log10(np.abs(leftMin) + vmin)\n",
    "    leftMax = np.log10(np.abs(leftMax) + vmin)\n",
    "    return 10 ** unmap_values(x, leftMin, leftMax, rightMin, rightMax) - vmin"
   ]
  },
  {
   "cell_type": "code",
   "execution_count": null,
   "metadata": {},
   "outputs": [],
   "source": [
    "def calculate_proper_frame_and_hop_size(x, image_size):\n",
    "    frame = 2 * (image_size - 1)\n",
    "    hop = (-2 * image_size + x.shape[0] + 2) / (image_size + 1)\n",
    "    return round(frame), round(hop)"
   ]
  },
  {
   "cell_type": "code",
   "execution_count": null,
   "metadata": {},
   "outputs": [],
   "source": [
    "img_size = 512\n",
    "audio_duration = 20"
   ]
  },
  {
   "cell_type": "code",
   "execution_count": null,
   "metadata": {
    "scrolled": false
   },
   "outputs": [],
   "source": [
    "# Verifica os ranges de transformação\n",
    "\n",
    "# x_t = list()\n",
    "# x_db = list()\n",
    "# for audio in tqdm(os.listdir(\"./audios\")):\n",
    "#     x, sr = librosa.load(f\"./audios/{audio}\", offset=0, duration=audio_duration)\n",
    "#     x_transformed = librosa.stft(x)\n",
    "#     x_t.append(x_transformed)\n",
    "#     xdb = np.log10(np.abs(x_transformed) + 0.001)\n",
    "#     x_db.append(xdb)\n",
    "# x_t = np.array(x_t)\n",
    "# x_db = np.array(x_db)\n",
    "\n",
    "# print(np.abs(x_t).min())\n",
    "# print(np.abs(x_t).max())\n",
    "# print(x_db.min())\n",
    "# print(x_db.max())\n",
    "\n",
    "# print(np.log10(np.abs(0) + 0.001))\n",
    "# print(np.log10(np.abs(233.95848) + 0.001))\n",
    "\n",
    "# print(amp_to_log(np.abs(x_t).min()))\n",
    "# print(amp_to_log(np.abs(x_t).max()))\n",
    "\n",
    "# print(log_to_amp(amp_to_log(np.abs(x_t).min())))\n",
    "# print(log_to_amp(amp_to_log(np.abs(x_t).max())))\n",
    "\n",
    "# Ranges já verificados e inseridos nos seus lugares adequados"
   ]
  },
  {
   "cell_type": "code",
   "execution_count": null,
   "metadata": {
    "scrolled": true
   },
   "outputs": [],
   "source": [
    "x, sr = librosa.load(\"./audios/ComfortablyNumb.mp3\", offset=0, duration=audio_duration)\n",
    "frame_size, hop_size = calculate_proper_frame_and_hop_size(x, img_size)\n",
    "print(frame_size, hop_size)\n",
    "print(x.shape)\n",
    "x_transformed = np.flip(librosa.stft(x, frame_size, hop_size), axis=0)\n",
    "print(x_transformed.shape)\n",
    "xdb = np.round(amp_to_log(x_transformed)).astype(int)\n",
    "print(xdb.shape)"
   ]
  },
  {
   "cell_type": "code",
   "execution_count": null,
   "metadata": {
    "scrolled": false
   },
   "outputs": [],
   "source": [
    "x, sr = librosa.load(\"./audios/ComfortablyNumb.mp3\", offset=0, duration=audio_duration, sr=22050)\n",
    "print(\"Shape do array lido diretamente do áudio: \", x.shape)\n",
    "soundfile.write(\"./from_spectrogram/teste_salvar_o_que_leu.wav\", x, sr)\n",
    "x_transformed = np.flip(librosa.stft(x, frame_size, hop_size), axis=0)\n",
    "print(\"Shape do áudio convertido pelo stft com os parâmetros default: \", x_transformed.shape)\n",
    "soundfile.write(\"./from_spectrogram/teste_stft.wav\", librosa.griffinlim(np.abs(np.flip(x_transformed, axis=0))), sr)\n",
    "xdb = np.round(amp_to_log(x_transformed)).astype(int)\n",
    "print(\"Shape do espectrograma após passar pela conversão logarítmica e escala (Tem que ser o memso do stft)\", np.flip(xdb.shape, axis=0))\n",
    "fig = plt.figure(figsize=(img_size, img_size), dpi=1, frameon=False)\n",
    "ax = fig.add_axes([0, 0, 1, 1], frameon=False)\n",
    "ax.axis('off')\n",
    "print(\"before\")\n",
    "img = ax.imshow(np.abs(x_transformed), cmap='gray')\n",
    "plt.show()\n",
    "librosa.cache.clear()\n",
    "plt.close()\n",
    "\n",
    "fig = plt.figure(figsize=(img_size, img_size), dpi=1, frameon=False)\n",
    "ax = fig.add_axes([0, 0, 1, 1], frameon=False)\n",
    "ax.axis('off')\n",
    "fig.add_axes(ax)\n",
    "print(\"after\")\n",
    "ax.imshow(xdb, cmap='gray', aspect='auto')\n",
    "plt.savefig(\"./from_spectrogram/teste.tiff\", dpi=1, pil_kwargs={\"quality\":100})\n",
    "plt.show()\n",
    "librosa.cache.clear()\n",
    "\n",
    "xdb_reversed = log_to_amp(xdb)\n",
    "soundfile.write(\"./from_spectrogram/teste_reversed.wav\", librosa.griffinlim(np.flip(np.abs(xdb_reversed), axis=0)), sr)\n",
    "print(\"reversed\")\n",
    "fig = plt.figure(figsize=(img_size, img_size), dpi=1, frameon=False)\n",
    "ax = fig.add_axes([0, 0, 1, 1], frameon=False)\n",
    "ax.axis('off')\n",
    "img = ax.imshow(xdb_reversed, cmap='gray')\n",
    "plt.show()\n",
    "librosa.cache.clear()"
   ]
  },
  {
   "cell_type": "code",
   "execution_count": null,
   "metadata": {
    "scrolled": false
   },
   "outputs": [],
   "source": [
    "img = plt.imread(\"./from_spectrogram/teste.tiff\")\n",
    "img = np.flip(img[:,:,0], axis=0)\n",
    "img_amp = log_to_amp(img)\n",
    "\n",
    "fig = plt.figure(figsize=(img_size, img_size), dpi=1, frameon=False)\n",
    "ax = fig.add_axes([0, 0, 1, 1], frameon=False)\n",
    "ax.axis('off')\n",
    "plt.imshow(img, cmap=\"gray\")\n",
    "plt.show()\n",
    "\n",
    "fig = plt.figure(figsize=(img_size, img_size), dpi=1, frameon=False)\n",
    "ax = fig.add_axes([0, 0, 1, 1], frameon=False)\n",
    "ax.axis('off')\n",
    "plt.imshow(img_amp, cmap=\"gray\")\n",
    "plt.show()\n",
    "\n",
    "img_amp = np.repeat(img_amp, 4, axis=1)\n",
    "result = librosa.griffinlim(np.abs(img_amp))\n",
    "soundfile.write(\"./from_spectrogram/teste_read_from_file.wav\", result, sr)"
   ]
  },
  {
   "cell_type": "code",
   "execution_count": null,
   "metadata": {},
   "outputs": [],
   "source": []
  },
  {
   "cell_type": "code",
   "execution_count": null,
   "metadata": {},
   "outputs": [],
   "source": []
  },
  {
   "cell_type": "code",
   "execution_count": null,
   "metadata": {},
   "outputs": [],
   "source": []
  },
  {
   "cell_type": "code",
   "execution_count": null,
   "metadata": {},
   "outputs": [],
   "source": []
  },
  {
   "cell_type": "code",
   "execution_count": null,
   "metadata": {},
   "outputs": [],
   "source": []
  },
  {
   "cell_type": "code",
   "execution_count": null,
   "metadata": {},
   "outputs": [],
   "source": []
  },
  {
   "cell_type": "markdown",
   "metadata": {},
   "source": [
    "Testes do que acontece ao salvar imagens com diferentes intervalos"
   ]
  },
  {
   "cell_type": "code",
   "execution_count": null,
   "metadata": {},
   "outputs": [],
   "source": [
    "# teste_img = np.array([[0, 144, 232], [5, 267, 1322], [123, 1333, 22]])\n",
    "# plt.imsave(\"./from_spectrogram/testemais255.tiff\", teste_img, cmap=\"gray\")"
   ]
  },
  {
   "cell_type": "code",
   "execution_count": null,
   "metadata": {},
   "outputs": [],
   "source": [
    "# teste_img_read = plt.imread(\"./from_spectrogram/testemais255.tiff\")"
   ]
  },
  {
   "cell_type": "code",
   "execution_count": null,
   "metadata": {},
   "outputs": [],
   "source": [
    "# teste_img"
   ]
  },
  {
   "cell_type": "code",
   "execution_count": null,
   "metadata": {},
   "outputs": [],
   "source": [
    "# teste_img_read[:,:,0]"
   ]
  },
  {
   "cell_type": "code",
   "execution_count": null,
   "metadata": {},
   "outputs": [],
   "source": [
    "# teste_img = np.array([[0, 1, 2], [3, 4, 5], [6, 7, 8]])\n",
    "# plt.imsave(\"./from_spectrogram/testemais255.tiff\", teste_img, cmap=\"gray\")\n",
    "# teste_img_read = plt.imread(\"./from_spectrogram/testemais255.tiff\")"
   ]
  },
  {
   "cell_type": "code",
   "execution_count": null,
   "metadata": {},
   "outputs": [],
   "source": [
    "# teste_img"
   ]
  },
  {
   "cell_type": "code",
   "execution_count": null,
   "metadata": {},
   "outputs": [],
   "source": [
    "# teste_img_read[:,:,0]"
   ]
  },
  {
   "cell_type": "markdown",
   "metadata": {},
   "source": [
    "Conclusão, os valores são sempre escalados para o intervalo de 0 a 255, em todos os casos\n",
    "\n",
    "Ou seja, se a imagem for:\n",
    "\n",
    "[0, 1], [1, 0]\n",
    "\n",
    "Ela vira\n",
    "\n",
    "[0, 255], [255, 0]\n",
    "\n",
    "E se ela for\n",
    "\n",
    "[1000, 10000], [10000, 1000]\n",
    "\n",
    "Ela vira\n",
    "\n",
    "[0, 255], [255, 0]"
   ]
  },
  {
   "cell_type": "code",
   "execution_count": null,
   "metadata": {},
   "outputs": [],
   "source": []
  },
  {
   "cell_type": "code",
   "execution_count": null,
   "metadata": {},
   "outputs": [],
   "source": [
    "# Testando"
   ]
  },
  {
   "cell_type": "code",
   "execution_count": null,
   "metadata": {},
   "outputs": [],
   "source": [
    "from audio_to_spectrogram import generate_spectrogram, generate_all_spectrograms, retrieve_audio, retrieve_audios_from_folder"
   ]
  },
  {
   "cell_type": "code",
   "execution_count": null,
   "metadata": {},
   "outputs": [],
   "source": [
    "retrieve_audios_from_folder(\"./spectrograms/ComfortablyNumb/\", \"./teste_comf\")"
   ]
  }
 ],
 "metadata": {
  "kernelspec": {
   "display_name": "Python 3",
   "language": "python",
   "name": "python3"
  },
  "language_info": {
   "codemirror_mode": {
    "name": "ipython",
    "version": 3
   },
   "file_extension": ".py",
   "mimetype": "text/x-python",
   "name": "python",
   "nbconvert_exporter": "python",
   "pygments_lexer": "ipython3",
   "version": "3.7.10"
  }
 },
 "nbformat": 4,
 "nbformat_minor": 4
}
